{
  "nbformat": 4,
  "nbformat_minor": 0,
  "metadata": {
    "colab": {
      "name": "RedCarpetUp_Assign.ipynb",
      "version": "0.3.2",
      "provenance": [],
      "include_colab_link": true
    },
    "kernelspec": {
      "name": "python3",
      "display_name": "Python 3"
    }
  },
  "cells": [
    {
      "cell_type": "markdown",
      "metadata": {
        "id": "view-in-github",
        "colab_type": "text"
      },
      "source": [
        "<a href=\"https://colab.research.google.com/github/vibhakarnail/upgraded-analyst/blob/master/RedCarpetUp_Assign.ipynb\" target=\"_parent\"><img src=\"https://colab.research.google.com/assets/colab-badge.svg\" alt=\"Open In Colab\"/></a>"
      ]
    },
    {
      "metadata": {
        "id": "khUv6tJ_vu4T",
        "colab_type": "code",
        "outputId": "b1ce2729-f00b-4766-d79b-2d58420b8158",
        "colab": {
          "base_uri": "https://localhost:8080/",
          "height": 238
        }
      },
      "cell_type": "code",
      "source": [
        "import pandas as pd\n",
        "import numpy as np\n",
        "import matplotlib.pyplot as plt\n",
        "%matplotlib inline\n",
        "!pip install nsepy"
      ],
      "execution_count": 60,
      "outputs": [
        {
          "output_type": "stream",
          "text": [
            "Requirement already satisfied: nsepy in /usr/local/lib/python3.6/dist-packages (0.7)\n",
            "Requirement already satisfied: requests in /usr/local/lib/python3.6/dist-packages (from nsepy) (2.18.4)\n",
            "Requirement already satisfied: numpy in /usr/local/lib/python3.6/dist-packages (from nsepy) (1.16.2)\n",
            "Requirement already satisfied: pandas in /usr/local/lib/python3.6/dist-packages (from nsepy) (0.23.4)\n",
            "Requirement already satisfied: beautifulsoup4 in /usr/local/lib/python3.6/dist-packages (from nsepy) (4.6.3)\n",
            "Requirement already satisfied: click in /usr/local/lib/python3.6/dist-packages (from nsepy) (7.0)\n",
            "Requirement already satisfied: six in /usr/local/lib/python3.6/dist-packages (from nsepy) (1.11.0)\n",
            "Requirement already satisfied: certifi>=2017.4.17 in /usr/local/lib/python3.6/dist-packages (from requests->nsepy) (2019.3.9)\n",
            "Requirement already satisfied: urllib3<1.23,>=1.21.1 in /usr/local/lib/python3.6/dist-packages (from requests->nsepy) (1.22)\n",
            "Requirement already satisfied: chardet<3.1.0,>=3.0.2 in /usr/local/lib/python3.6/dist-packages (from requests->nsepy) (3.0.4)\n",
            "Requirement already satisfied: idna<2.7,>=2.5 in /usr/local/lib/python3.6/dist-packages (from requests->nsepy) (2.6)\n",
            "Requirement already satisfied: pytz>=2011k in /usr/local/lib/python3.6/dist-packages (from pandas->nsepy) (2018.9)\n",
            "Requirement already satisfied: python-dateutil>=2.5.0 in /usr/local/lib/python3.6/dist-packages (from pandas->nsepy) (2.5.3)\n"
          ],
          "name": "stdout"
        }
      ]
    },
    {
      "metadata": {
        "id": "u2bBUYpaNuMI",
        "colab_type": "code",
        "outputId": "51caa201-212d-45ed-e8a2-f465681a11e8",
        "colab": {
          "base_uri": "https://localhost:8080/",
          "height": 129
        }
      },
      "cell_type": "code",
      "source": [
        "#Source OCLHV data for NSE stocks (INFY,TCS) between 2015-2016\n",
        "from datetime import date\n",
        "from nsepy import get_history\n",
        "infosys = get_history(symbol=\"INFY\", \n",
        "                    start=date(2015,1,1), \n",
        "                    end=date(2015,1,10))\n",
        "from datetime import date\n",
        "from nsepy import get_history\n",
        "tcs = get_history(symbol='TCS',\n",
        "                   start=date(2015,1,1),\n",
        "                   end=date(2016,1,1))\n",
        "#Source OCLHV data for NIFTY IT index\n",
        "from datetime import date\n",
        "from nsepy import get_history\n",
        "nifty= get_history(symbol='NIFTYIT',\n",
        "                   start=date(2015,1,1),\n",
        "                   end=date(2016,1,1))\n",
        "\n",
        "prices = get_price_list(dt=date(2015,1,1))\n",
        "\n",
        "\n",
        "  a=infosys.shape[1]\n",
        "  print(a)\n",
        "  infosys.head(1)\n",
        "  d=infosys.iloc[:0, :1]\n",
        "  infosys.iloc[:0, :1]\n",
        "  print(d)\n",
        "  a=infosys.shape[1]\n",
        "  print(a)\n",
        "  infosys.head()\n",
        "  tcs.head()\n",
        "  i1=1\n",
        "  j1=1\n",
        "yeardays=[31,28,31,30,31,30,31,31,30,31,30,31]\n",
        "\n",
        "\n",
        "2015-i1-j1\n",
        "2015-i2-j2\n",
        "select Close from tcs where Date=\"2015-01-01\"\n",
        "tcs.loc[infosys['Date'] ==\"2015-01-01\", 'Close']\n",
        "df=tcs.toDF\n",
        "x=\"2015-01-01\"\n",
        "infosys[infosys['date']==date(2015-01-01)]['Close'].values\n",
        "data['Close']=tcs.where(data['education'] =='basic.9y', 'Basic', data['education'])\n",
        "CloseData.append()\n",
        "infosys.head()\n",
        "df.index[df['2015-01-01']].tolist()\n"
      ],
      "execution_count": 79,
      "outputs": [
        {
          "output_type": "error",
          "ename": "SyntaxError",
          "evalue": "ignored",
          "traceback": [
            "\u001b[0;36m  File \u001b[0;32m\"<ipython-input-79-68cf9f311ecb>\"\u001b[0;36m, line \u001b[0;32m1\u001b[0m\n\u001b[0;31m    infosys[infosys['date']==date(2015-01-01)]['Close'].values\u001b[0m\n\u001b[0m                                        ^\u001b[0m\n\u001b[0;31mSyntaxError\u001b[0m\u001b[0;31m:\u001b[0m invalid token\n"
          ]
        }
      ]
    },
    {
      "metadata": {
        "id": "iLlpxbGa92aQ",
        "colab_type": "code",
        "outputId": "a83e92c1-ff5c-4ca6-fc3d-e078ba93ea7e",
        "colab": {
          "base_uri": "https://localhost:8080/",
          "height": 235
        }
      },
      "cell_type": "code",
      "source": [
        "  tcs.head()"
      ],
      "execution_count": 0,
      "outputs": [
        {
          "output_type": "execute_result",
          "data": {
            "text/html": [
              "<div>\n",
              "<style scoped>\n",
              "    .dataframe tbody tr th:only-of-type {\n",
              "        vertical-align: middle;\n",
              "    }\n",
              "\n",
              "    .dataframe tbody tr th {\n",
              "        vertical-align: top;\n",
              "    }\n",
              "\n",
              "    .dataframe thead th {\n",
              "        text-align: right;\n",
              "    }\n",
              "</style>\n",
              "<table border=\"1\" class=\"dataframe\">\n",
              "  <thead>\n",
              "    <tr style=\"text-align: right;\">\n",
              "      <th></th>\n",
              "      <th>Symbol</th>\n",
              "      <th>Series</th>\n",
              "      <th>Prev Close</th>\n",
              "      <th>Open</th>\n",
              "      <th>High</th>\n",
              "      <th>Low</th>\n",
              "      <th>Last</th>\n",
              "      <th>Close</th>\n",
              "      <th>VWAP</th>\n",
              "      <th>Volume</th>\n",
              "      <th>Turnover</th>\n",
              "      <th>Trades</th>\n",
              "      <th>Deliverable Volume</th>\n",
              "      <th>%Deliverble</th>\n",
              "    </tr>\n",
              "    <tr>\n",
              "      <th>Date</th>\n",
              "      <th></th>\n",
              "      <th></th>\n",
              "      <th></th>\n",
              "      <th></th>\n",
              "      <th></th>\n",
              "      <th></th>\n",
              "      <th></th>\n",
              "      <th></th>\n",
              "      <th></th>\n",
              "      <th></th>\n",
              "      <th></th>\n",
              "      <th></th>\n",
              "      <th></th>\n",
              "      <th></th>\n",
              "    </tr>\n",
              "  </thead>\n",
              "  <tbody>\n",
              "    <tr>\n",
              "      <th>2015-01-01</th>\n",
              "      <td>TCS</td>\n",
              "      <td>EQ</td>\n",
              "      <td>2558.25</td>\n",
              "      <td>2567.0</td>\n",
              "      <td>2567.00</td>\n",
              "      <td>2541.00</td>\n",
              "      <td>2550.00</td>\n",
              "      <td>2545.55</td>\n",
              "      <td>2548.51</td>\n",
              "      <td>183415</td>\n",
              "      <td>4.674345e+13</td>\n",
              "      <td>8002</td>\n",
              "      <td>52870</td>\n",
              "      <td>0.2883</td>\n",
              "    </tr>\n",
              "    <tr>\n",
              "      <th>2015-01-02</th>\n",
              "      <td>TCS</td>\n",
              "      <td>EQ</td>\n",
              "      <td>2545.55</td>\n",
              "      <td>2551.0</td>\n",
              "      <td>2590.95</td>\n",
              "      <td>2550.60</td>\n",
              "      <td>2588.40</td>\n",
              "      <td>2579.45</td>\n",
              "      <td>2568.19</td>\n",
              "      <td>462870</td>\n",
              "      <td>1.188740e+14</td>\n",
              "      <td>27585</td>\n",
              "      <td>309350</td>\n",
              "      <td>0.6683</td>\n",
              "    </tr>\n",
              "    <tr>\n",
              "      <th>2015-01-05</th>\n",
              "      <td>TCS</td>\n",
              "      <td>EQ</td>\n",
              "      <td>2579.45</td>\n",
              "      <td>2581.0</td>\n",
              "      <td>2599.90</td>\n",
              "      <td>2524.65</td>\n",
              "      <td>2538.10</td>\n",
              "      <td>2540.25</td>\n",
              "      <td>2563.94</td>\n",
              "      <td>877121</td>\n",
              "      <td>2.248886e+14</td>\n",
              "      <td>43234</td>\n",
              "      <td>456728</td>\n",
              "      <td>0.5207</td>\n",
              "    </tr>\n",
              "    <tr>\n",
              "      <th>2015-01-06</th>\n",
              "      <td>TCS</td>\n",
              "      <td>EQ</td>\n",
              "      <td>2540.25</td>\n",
              "      <td>2529.1</td>\n",
              "      <td>2529.10</td>\n",
              "      <td>2440.00</td>\n",
              "      <td>2450.05</td>\n",
              "      <td>2446.60</td>\n",
              "      <td>2466.90</td>\n",
              "      <td>1211892</td>\n",
              "      <td>2.989615e+14</td>\n",
              "      <td>84503</td>\n",
              "      <td>714306</td>\n",
              "      <td>0.5894</td>\n",
              "    </tr>\n",
              "    <tr>\n",
              "      <th>2015-01-07</th>\n",
              "      <td>TCS</td>\n",
              "      <td>EQ</td>\n",
              "      <td>2446.60</td>\n",
              "      <td>2470.0</td>\n",
              "      <td>2479.15</td>\n",
              "      <td>2407.45</td>\n",
              "      <td>2426.90</td>\n",
              "      <td>2417.70</td>\n",
              "      <td>2433.96</td>\n",
              "      <td>1318166</td>\n",
              "      <td>3.208362e+14</td>\n",
              "      <td>101741</td>\n",
              "      <td>886368</td>\n",
              "      <td>0.6724</td>\n",
              "    </tr>\n",
              "  </tbody>\n",
              "</table>\n",
              "</div>"
            ],
            "text/plain": [
              "           Symbol Series  Prev Close    Open     High      Low     Last  \\\n",
              "Date                                                                      \n",
              "2015-01-01    TCS     EQ     2558.25  2567.0  2567.00  2541.00  2550.00   \n",
              "2015-01-02    TCS     EQ     2545.55  2551.0  2590.95  2550.60  2588.40   \n",
              "2015-01-05    TCS     EQ     2579.45  2581.0  2599.90  2524.65  2538.10   \n",
              "2015-01-06    TCS     EQ     2540.25  2529.1  2529.10  2440.00  2450.05   \n",
              "2015-01-07    TCS     EQ     2446.60  2470.0  2479.15  2407.45  2426.90   \n",
              "\n",
              "              Close     VWAP   Volume      Turnover  Trades  \\\n",
              "Date                                                          \n",
              "2015-01-01  2545.55  2548.51   183415  4.674345e+13    8002   \n",
              "2015-01-02  2579.45  2568.19   462870  1.188740e+14   27585   \n",
              "2015-01-05  2540.25  2563.94   877121  2.248886e+14   43234   \n",
              "2015-01-06  2446.60  2466.90  1211892  2.989615e+14   84503   \n",
              "2015-01-07  2417.70  2433.96  1318166  3.208362e+14  101741   \n",
              "\n",
              "            Deliverable Volume  %Deliverble  \n",
              "Date                                         \n",
              "2015-01-01               52870       0.2883  \n",
              "2015-01-02              309350       0.6683  \n",
              "2015-01-05              456728       0.5207  \n",
              "2015-01-06              714306       0.5894  \n",
              "2015-01-07              886368       0.6724  "
            ]
          },
          "metadata": {
            "tags": []
          },
          "execution_count": 7
        }
      ]
    },
    {
      "metadata": {
        "id": "Is6BnfNx923v",
        "colab_type": "code",
        "outputId": "1d608e73-229c-42b8-f14e-23fb77825cf4",
        "colab": {
          "base_uri": "https://localhost:8080/",
          "height": 235
        }
      },
      "cell_type": "code",
      "source": [
        "  tcs.head()"
      ],
      "execution_count": 0,
      "outputs": [
        {
          "output_type": "execute_result",
          "data": {
            "text/html": [
              "<div>\n",
              "<style scoped>\n",
              "    .dataframe tbody tr th:only-of-type {\n",
              "        vertical-align: middle;\n",
              "    }\n",
              "\n",
              "    .dataframe tbody tr th {\n",
              "        vertical-align: top;\n",
              "    }\n",
              "\n",
              "    .dataframe thead th {\n",
              "        text-align: right;\n",
              "    }\n",
              "</style>\n",
              "<table border=\"1\" class=\"dataframe\">\n",
              "  <thead>\n",
              "    <tr style=\"text-align: right;\">\n",
              "      <th></th>\n",
              "      <th>Symbol</th>\n",
              "      <th>Series</th>\n",
              "      <th>Prev Close</th>\n",
              "      <th>Open</th>\n",
              "      <th>High</th>\n",
              "      <th>Low</th>\n",
              "      <th>Last</th>\n",
              "      <th>Close</th>\n",
              "      <th>VWAP</th>\n",
              "      <th>Volume</th>\n",
              "      <th>Turnover</th>\n",
              "      <th>Trades</th>\n",
              "      <th>Deliverable Volume</th>\n",
              "      <th>%Deliverble</th>\n",
              "    </tr>\n",
              "    <tr>\n",
              "      <th>Date</th>\n",
              "      <th></th>\n",
              "      <th></th>\n",
              "      <th></th>\n",
              "      <th></th>\n",
              "      <th></th>\n",
              "      <th></th>\n",
              "      <th></th>\n",
              "      <th></th>\n",
              "      <th></th>\n",
              "      <th></th>\n",
              "      <th></th>\n",
              "      <th></th>\n",
              "      <th></th>\n",
              "      <th></th>\n",
              "    </tr>\n",
              "  </thead>\n",
              "  <tbody>\n",
              "    <tr>\n",
              "      <th>2015-01-01</th>\n",
              "      <td>TCS</td>\n",
              "      <td>EQ</td>\n",
              "      <td>2558.25</td>\n",
              "      <td>2567.0</td>\n",
              "      <td>2567.00</td>\n",
              "      <td>2541.00</td>\n",
              "      <td>2550.00</td>\n",
              "      <td>2545.55</td>\n",
              "      <td>2548.51</td>\n",
              "      <td>183415</td>\n",
              "      <td>4.674345e+13</td>\n",
              "      <td>8002</td>\n",
              "      <td>52870</td>\n",
              "      <td>0.2883</td>\n",
              "    </tr>\n",
              "    <tr>\n",
              "      <th>2015-01-02</th>\n",
              "      <td>TCS</td>\n",
              "      <td>EQ</td>\n",
              "      <td>2545.55</td>\n",
              "      <td>2551.0</td>\n",
              "      <td>2590.95</td>\n",
              "      <td>2550.60</td>\n",
              "      <td>2588.40</td>\n",
              "      <td>2579.45</td>\n",
              "      <td>2568.19</td>\n",
              "      <td>462870</td>\n",
              "      <td>1.188740e+14</td>\n",
              "      <td>27585</td>\n",
              "      <td>309350</td>\n",
              "      <td>0.6683</td>\n",
              "    </tr>\n",
              "    <tr>\n",
              "      <th>2015-01-05</th>\n",
              "      <td>TCS</td>\n",
              "      <td>EQ</td>\n",
              "      <td>2579.45</td>\n",
              "      <td>2581.0</td>\n",
              "      <td>2599.90</td>\n",
              "      <td>2524.65</td>\n",
              "      <td>2538.10</td>\n",
              "      <td>2540.25</td>\n",
              "      <td>2563.94</td>\n",
              "      <td>877121</td>\n",
              "      <td>2.248886e+14</td>\n",
              "      <td>43234</td>\n",
              "      <td>456728</td>\n",
              "      <td>0.5207</td>\n",
              "    </tr>\n",
              "    <tr>\n",
              "      <th>2015-01-06</th>\n",
              "      <td>TCS</td>\n",
              "      <td>EQ</td>\n",
              "      <td>2540.25</td>\n",
              "      <td>2529.1</td>\n",
              "      <td>2529.10</td>\n",
              "      <td>2440.00</td>\n",
              "      <td>2450.05</td>\n",
              "      <td>2446.60</td>\n",
              "      <td>2466.90</td>\n",
              "      <td>1211892</td>\n",
              "      <td>2.989615e+14</td>\n",
              "      <td>84503</td>\n",
              "      <td>714306</td>\n",
              "      <td>0.5894</td>\n",
              "    </tr>\n",
              "    <tr>\n",
              "      <th>2015-01-07</th>\n",
              "      <td>TCS</td>\n",
              "      <td>EQ</td>\n",
              "      <td>2446.60</td>\n",
              "      <td>2470.0</td>\n",
              "      <td>2479.15</td>\n",
              "      <td>2407.45</td>\n",
              "      <td>2426.90</td>\n",
              "      <td>2417.70</td>\n",
              "      <td>2433.96</td>\n",
              "      <td>1318166</td>\n",
              "      <td>3.208362e+14</td>\n",
              "      <td>101741</td>\n",
              "      <td>886368</td>\n",
              "      <td>0.6724</td>\n",
              "    </tr>\n",
              "  </tbody>\n",
              "</table>\n",
              "</div>"
            ],
            "text/plain": [
              "           Symbol Series  Prev Close    Open     High      Low     Last  \\\n",
              "Date                                                                      \n",
              "2015-01-01    TCS     EQ     2558.25  2567.0  2567.00  2541.00  2550.00   \n",
              "2015-01-02    TCS     EQ     2545.55  2551.0  2590.95  2550.60  2588.40   \n",
              "2015-01-05    TCS     EQ     2579.45  2581.0  2599.90  2524.65  2538.10   \n",
              "2015-01-06    TCS     EQ     2540.25  2529.1  2529.10  2440.00  2450.05   \n",
              "2015-01-07    TCS     EQ     2446.60  2470.0  2479.15  2407.45  2426.90   \n",
              "\n",
              "              Close     VWAP   Volume      Turnover  Trades  \\\n",
              "Date                                                          \n",
              "2015-01-01  2545.55  2548.51   183415  4.674345e+13    8002   \n",
              "2015-01-02  2579.45  2568.19   462870  1.188740e+14   27585   \n",
              "2015-01-05  2540.25  2563.94   877121  2.248886e+14   43234   \n",
              "2015-01-06  2446.60  2466.90  1211892  2.989615e+14   84503   \n",
              "2015-01-07  2417.70  2433.96  1318166  3.208362e+14  101741   \n",
              "\n",
              "            Deliverable Volume  %Deliverble  \n",
              "Date                                         \n",
              "2015-01-01               52870       0.2883  \n",
              "2015-01-02              309350       0.6683  \n",
              "2015-01-05              456728       0.5207  \n",
              "2015-01-06              714306       0.5894  \n",
              "2015-01-07              886368       0.6724  "
            ]
          },
          "metadata": {
            "tags": []
          },
          "execution_count": 24
        }
      ]
    },
    {
      "metadata": {
        "id": "LDAM7VV893M3",
        "colab_type": "code",
        "colab": {}
      },
      "cell_type": "code",
      "source": [
        "df=pd.DataFrame(infosys)\n",
        "df"
      ],
      "execution_count": 0,
      "outputs": []
    },
    {
      "metadata": {
        "id": "khpXxc2Zp3iY",
        "colab_type": "code",
        "colab": {
          "base_uri": "https://localhost:8080/",
          "height": 170
        },
        "outputId": "b127928d-471f-4552-8f1f-0217006d896c"
      },
      "cell_type": "code",
      "source": [
        "Date=infosys.iloc[:250,:0]\n",
        "print(Date.to_string())\n",
        "print(df.take[0])\n",
        "df[df.columns[1]]"
      ],
      "execution_count": 53,
      "outputs": [
        {
          "output_type": "execute_result",
          "data": {
            "text/plain": [
              "Date\n",
              "2015-01-01    EQ\n",
              "2015-01-02    EQ\n",
              "2015-01-05    EQ\n",
              "2015-01-06    EQ\n",
              "2015-01-07    EQ\n",
              "2015-01-08    EQ\n",
              "2015-01-09    EQ\n",
              "Name: Series, dtype: object"
            ]
          },
          "metadata": {
            "tags": []
          },
          "execution_count": 53
        }
      ]
    },
    {
      "metadata": {
        "id": "h6s56-1xp362",
        "colab_type": "code",
        "colab": {
          "base_uri": "https://localhost:8080/",
          "height": 1200
        },
        "outputId": "cc4fdf46-bf0c-4f54-fe06-4548b2cf03d8"
      },
      "cell_type": "code",
      "source": [
        "Date[1]"
      ],
      "execution_count": 36,
      "outputs": [
        {
          "output_type": "error",
          "ename": "KeyError",
          "evalue": "ignored",
          "traceback": [
            "\u001b[0;31m---------------------------------------------------------------------------\u001b[0m",
            "\u001b[0;31mKeyError\u001b[0m                                  Traceback (most recent call last)",
            "\u001b[0;32m/usr/local/lib/python3.6/dist-packages/pandas/core/indexes/base.py\u001b[0m in \u001b[0;36mget_loc\u001b[0;34m(self, key, method, tolerance)\u001b[0m\n\u001b[1;32m   3077\u001b[0m             \u001b[0;32mtry\u001b[0m\u001b[0;34m:\u001b[0m\u001b[0;34m\u001b[0m\u001b[0;34m\u001b[0m\u001b[0m\n\u001b[0;32m-> 3078\u001b[0;31m                 \u001b[0;32mreturn\u001b[0m \u001b[0mself\u001b[0m\u001b[0;34m.\u001b[0m\u001b[0m_engine\u001b[0m\u001b[0;34m.\u001b[0m\u001b[0mget_loc\u001b[0m\u001b[0;34m(\u001b[0m\u001b[0mkey\u001b[0m\u001b[0;34m)\u001b[0m\u001b[0;34m\u001b[0m\u001b[0;34m\u001b[0m\u001b[0m\n\u001b[0m\u001b[1;32m   3079\u001b[0m             \u001b[0;32mexcept\u001b[0m \u001b[0mKeyError\u001b[0m\u001b[0;34m:\u001b[0m\u001b[0;34m\u001b[0m\u001b[0;34m\u001b[0m\u001b[0m\n",
            "\u001b[0;32mpandas/_libs/index.pyx\u001b[0m in \u001b[0;36mpandas._libs.index.IndexEngine.get_loc\u001b[0;34m()\u001b[0m\n",
            "\u001b[0;32mpandas/_libs/index.pyx\u001b[0m in \u001b[0;36mpandas._libs.index.IndexEngine.get_loc\u001b[0;34m()\u001b[0m\n",
            "\u001b[0;32mpandas/_libs/hashtable_class_helper.pxi\u001b[0m in \u001b[0;36mpandas._libs.hashtable.PyObjectHashTable.get_item\u001b[0;34m()\u001b[0m\n",
            "\u001b[0;32mpandas/_libs/hashtable_class_helper.pxi\u001b[0m in \u001b[0;36mpandas._libs.hashtable.PyObjectHashTable.get_item\u001b[0;34m()\u001b[0m\n",
            "\u001b[0;31mKeyError\u001b[0m: 1",
            "\nDuring handling of the above exception, another exception occurred:\n",
            "\u001b[0;31mKeyError\u001b[0m                                  Traceback (most recent call last)",
            "\u001b[0;32m<ipython-input-36-3863f044b2b8>\u001b[0m in \u001b[0;36m<module>\u001b[0;34m()\u001b[0m\n\u001b[0;32m----> 1\u001b[0;31m \u001b[0mDate\u001b[0m\u001b[0;34m[\u001b[0m\u001b[0;36m1\u001b[0m\u001b[0;34m]\u001b[0m\u001b[0;34m\u001b[0m\u001b[0;34m\u001b[0m\u001b[0m\n\u001b[0m",
            "\u001b[0;32m/usr/local/lib/python3.6/dist-packages/pandas/core/frame.py\u001b[0m in \u001b[0;36m__getitem__\u001b[0;34m(self, key)\u001b[0m\n\u001b[1;32m   2686\u001b[0m             \u001b[0;32mreturn\u001b[0m \u001b[0mself\u001b[0m\u001b[0;34m.\u001b[0m\u001b[0m_getitem_multilevel\u001b[0m\u001b[0;34m(\u001b[0m\u001b[0mkey\u001b[0m\u001b[0;34m)\u001b[0m\u001b[0;34m\u001b[0m\u001b[0;34m\u001b[0m\u001b[0m\n\u001b[1;32m   2687\u001b[0m         \u001b[0;32melse\u001b[0m\u001b[0;34m:\u001b[0m\u001b[0;34m\u001b[0m\u001b[0;34m\u001b[0m\u001b[0m\n\u001b[0;32m-> 2688\u001b[0;31m             \u001b[0;32mreturn\u001b[0m \u001b[0mself\u001b[0m\u001b[0;34m.\u001b[0m\u001b[0m_getitem_column\u001b[0m\u001b[0;34m(\u001b[0m\u001b[0mkey\u001b[0m\u001b[0;34m)\u001b[0m\u001b[0;34m\u001b[0m\u001b[0;34m\u001b[0m\u001b[0m\n\u001b[0m\u001b[1;32m   2689\u001b[0m \u001b[0;34m\u001b[0m\u001b[0m\n\u001b[1;32m   2690\u001b[0m     \u001b[0;32mdef\u001b[0m \u001b[0m_getitem_column\u001b[0m\u001b[0;34m(\u001b[0m\u001b[0mself\u001b[0m\u001b[0;34m,\u001b[0m \u001b[0mkey\u001b[0m\u001b[0;34m)\u001b[0m\u001b[0;34m:\u001b[0m\u001b[0;34m\u001b[0m\u001b[0;34m\u001b[0m\u001b[0m\n",
            "\u001b[0;32m/usr/local/lib/python3.6/dist-packages/pandas/core/frame.py\u001b[0m in \u001b[0;36m_getitem_column\u001b[0;34m(self, key)\u001b[0m\n\u001b[1;32m   2693\u001b[0m         \u001b[0;31m# get column\u001b[0m\u001b[0;34m\u001b[0m\u001b[0;34m\u001b[0m\u001b[0;34m\u001b[0m\u001b[0m\n\u001b[1;32m   2694\u001b[0m         \u001b[0;32mif\u001b[0m \u001b[0mself\u001b[0m\u001b[0;34m.\u001b[0m\u001b[0mcolumns\u001b[0m\u001b[0;34m.\u001b[0m\u001b[0mis_unique\u001b[0m\u001b[0;34m:\u001b[0m\u001b[0;34m\u001b[0m\u001b[0;34m\u001b[0m\u001b[0m\n\u001b[0;32m-> 2695\u001b[0;31m             \u001b[0;32mreturn\u001b[0m \u001b[0mself\u001b[0m\u001b[0;34m.\u001b[0m\u001b[0m_get_item_cache\u001b[0m\u001b[0;34m(\u001b[0m\u001b[0mkey\u001b[0m\u001b[0;34m)\u001b[0m\u001b[0;34m\u001b[0m\u001b[0;34m\u001b[0m\u001b[0m\n\u001b[0m\u001b[1;32m   2696\u001b[0m \u001b[0;34m\u001b[0m\u001b[0m\n\u001b[1;32m   2697\u001b[0m         \u001b[0;31m# duplicate columns & possible reduce dimensionality\u001b[0m\u001b[0;34m\u001b[0m\u001b[0;34m\u001b[0m\u001b[0;34m\u001b[0m\u001b[0m\n",
            "\u001b[0;32m/usr/local/lib/python3.6/dist-packages/pandas/core/generic.py\u001b[0m in \u001b[0;36m_get_item_cache\u001b[0;34m(self, item)\u001b[0m\n\u001b[1;32m   2487\u001b[0m         \u001b[0mres\u001b[0m \u001b[0;34m=\u001b[0m \u001b[0mcache\u001b[0m\u001b[0;34m.\u001b[0m\u001b[0mget\u001b[0m\u001b[0;34m(\u001b[0m\u001b[0mitem\u001b[0m\u001b[0;34m)\u001b[0m\u001b[0;34m\u001b[0m\u001b[0;34m\u001b[0m\u001b[0m\n\u001b[1;32m   2488\u001b[0m         \u001b[0;32mif\u001b[0m \u001b[0mres\u001b[0m \u001b[0;32mis\u001b[0m \u001b[0;32mNone\u001b[0m\u001b[0;34m:\u001b[0m\u001b[0;34m\u001b[0m\u001b[0;34m\u001b[0m\u001b[0m\n\u001b[0;32m-> 2489\u001b[0;31m             \u001b[0mvalues\u001b[0m \u001b[0;34m=\u001b[0m \u001b[0mself\u001b[0m\u001b[0;34m.\u001b[0m\u001b[0m_data\u001b[0m\u001b[0;34m.\u001b[0m\u001b[0mget\u001b[0m\u001b[0;34m(\u001b[0m\u001b[0mitem\u001b[0m\u001b[0;34m)\u001b[0m\u001b[0;34m\u001b[0m\u001b[0;34m\u001b[0m\u001b[0m\n\u001b[0m\u001b[1;32m   2490\u001b[0m             \u001b[0mres\u001b[0m \u001b[0;34m=\u001b[0m \u001b[0mself\u001b[0m\u001b[0;34m.\u001b[0m\u001b[0m_box_item_values\u001b[0m\u001b[0;34m(\u001b[0m\u001b[0mitem\u001b[0m\u001b[0;34m,\u001b[0m \u001b[0mvalues\u001b[0m\u001b[0;34m)\u001b[0m\u001b[0;34m\u001b[0m\u001b[0;34m\u001b[0m\u001b[0m\n\u001b[1;32m   2491\u001b[0m             \u001b[0mcache\u001b[0m\u001b[0;34m[\u001b[0m\u001b[0mitem\u001b[0m\u001b[0;34m]\u001b[0m \u001b[0;34m=\u001b[0m \u001b[0mres\u001b[0m\u001b[0;34m\u001b[0m\u001b[0;34m\u001b[0m\u001b[0m\n",
            "\u001b[0;32m/usr/local/lib/python3.6/dist-packages/pandas/core/internals.py\u001b[0m in \u001b[0;36mget\u001b[0;34m(self, item, fastpath)\u001b[0m\n\u001b[1;32m   4113\u001b[0m \u001b[0;34m\u001b[0m\u001b[0m\n\u001b[1;32m   4114\u001b[0m             \u001b[0;32mif\u001b[0m \u001b[0;32mnot\u001b[0m \u001b[0misna\u001b[0m\u001b[0;34m(\u001b[0m\u001b[0mitem\u001b[0m\u001b[0;34m)\u001b[0m\u001b[0;34m:\u001b[0m\u001b[0;34m\u001b[0m\u001b[0;34m\u001b[0m\u001b[0m\n\u001b[0;32m-> 4115\u001b[0;31m                 \u001b[0mloc\u001b[0m \u001b[0;34m=\u001b[0m \u001b[0mself\u001b[0m\u001b[0;34m.\u001b[0m\u001b[0mitems\u001b[0m\u001b[0;34m.\u001b[0m\u001b[0mget_loc\u001b[0m\u001b[0;34m(\u001b[0m\u001b[0mitem\u001b[0m\u001b[0;34m)\u001b[0m\u001b[0;34m\u001b[0m\u001b[0;34m\u001b[0m\u001b[0m\n\u001b[0m\u001b[1;32m   4116\u001b[0m             \u001b[0;32melse\u001b[0m\u001b[0;34m:\u001b[0m\u001b[0;34m\u001b[0m\u001b[0;34m\u001b[0m\u001b[0m\n\u001b[1;32m   4117\u001b[0m                 \u001b[0mindexer\u001b[0m \u001b[0;34m=\u001b[0m \u001b[0mnp\u001b[0m\u001b[0;34m.\u001b[0m\u001b[0marange\u001b[0m\u001b[0;34m(\u001b[0m\u001b[0mlen\u001b[0m\u001b[0;34m(\u001b[0m\u001b[0mself\u001b[0m\u001b[0;34m.\u001b[0m\u001b[0mitems\u001b[0m\u001b[0;34m)\u001b[0m\u001b[0;34m)\u001b[0m\u001b[0;34m[\u001b[0m\u001b[0misna\u001b[0m\u001b[0;34m(\u001b[0m\u001b[0mself\u001b[0m\u001b[0;34m.\u001b[0m\u001b[0mitems\u001b[0m\u001b[0;34m)\u001b[0m\u001b[0;34m]\u001b[0m\u001b[0;34m\u001b[0m\u001b[0;34m\u001b[0m\u001b[0m\n",
            "\u001b[0;32m/usr/local/lib/python3.6/dist-packages/pandas/core/indexes/base.py\u001b[0m in \u001b[0;36mget_loc\u001b[0;34m(self, key, method, tolerance)\u001b[0m\n\u001b[1;32m   3078\u001b[0m                 \u001b[0;32mreturn\u001b[0m \u001b[0mself\u001b[0m\u001b[0;34m.\u001b[0m\u001b[0m_engine\u001b[0m\u001b[0;34m.\u001b[0m\u001b[0mget_loc\u001b[0m\u001b[0;34m(\u001b[0m\u001b[0mkey\u001b[0m\u001b[0;34m)\u001b[0m\u001b[0;34m\u001b[0m\u001b[0;34m\u001b[0m\u001b[0m\n\u001b[1;32m   3079\u001b[0m             \u001b[0;32mexcept\u001b[0m \u001b[0mKeyError\u001b[0m\u001b[0;34m:\u001b[0m\u001b[0;34m\u001b[0m\u001b[0;34m\u001b[0m\u001b[0m\n\u001b[0;32m-> 3080\u001b[0;31m                 \u001b[0;32mreturn\u001b[0m \u001b[0mself\u001b[0m\u001b[0;34m.\u001b[0m\u001b[0m_engine\u001b[0m\u001b[0;34m.\u001b[0m\u001b[0mget_loc\u001b[0m\u001b[0;34m(\u001b[0m\u001b[0mself\u001b[0m\u001b[0;34m.\u001b[0m\u001b[0m_maybe_cast_indexer\u001b[0m\u001b[0;34m(\u001b[0m\u001b[0mkey\u001b[0m\u001b[0;34m)\u001b[0m\u001b[0;34m)\u001b[0m\u001b[0;34m\u001b[0m\u001b[0;34m\u001b[0m\u001b[0m\n\u001b[0m\u001b[1;32m   3081\u001b[0m \u001b[0;34m\u001b[0m\u001b[0m\n\u001b[1;32m   3082\u001b[0m         \u001b[0mindexer\u001b[0m \u001b[0;34m=\u001b[0m \u001b[0mself\u001b[0m\u001b[0;34m.\u001b[0m\u001b[0mget_indexer\u001b[0m\u001b[0;34m(\u001b[0m\u001b[0;34m[\u001b[0m\u001b[0mkey\u001b[0m\u001b[0;34m]\u001b[0m\u001b[0;34m,\u001b[0m \u001b[0mmethod\u001b[0m\u001b[0;34m=\u001b[0m\u001b[0mmethod\u001b[0m\u001b[0;34m,\u001b[0m \u001b[0mtolerance\u001b[0m\u001b[0;34m=\u001b[0m\u001b[0mtolerance\u001b[0m\u001b[0;34m)\u001b[0m\u001b[0;34m\u001b[0m\u001b[0;34m\u001b[0m\u001b[0m\n",
            "\u001b[0;32mpandas/_libs/index.pyx\u001b[0m in \u001b[0;36mpandas._libs.index.IndexEngine.get_loc\u001b[0;34m()\u001b[0m\n",
            "\u001b[0;32mpandas/_libs/index.pyx\u001b[0m in \u001b[0;36mpandas._libs.index.IndexEngine.get_loc\u001b[0;34m()\u001b[0m\n",
            "\u001b[0;32mpandas/_libs/hashtable_class_helper.pxi\u001b[0m in \u001b[0;36mpandas._libs.hashtable.PyObjectHashTable.get_item\u001b[0;34m()\u001b[0m\n",
            "\u001b[0;32mpandas/_libs/hashtable_class_helper.pxi\u001b[0m in \u001b[0;36mpandas._libs.hashtable.PyObjectHashTable.get_item\u001b[0;34m()\u001b[0m\n",
            "\u001b[0;31mKeyError\u001b[0m: 1"
          ]
        }
      ]
    },
    {
      "metadata": {
        "id": "1iBjvbfkp4Qd",
        "colab_type": "code",
        "colab": {}
      },
      "cell_type": "code",
      "source": [
        ""
      ],
      "execution_count": 0,
      "outputs": []
    }
  ]
}